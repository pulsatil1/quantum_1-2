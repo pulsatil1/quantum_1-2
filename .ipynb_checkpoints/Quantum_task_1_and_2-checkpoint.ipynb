{
 "cells": [
  {
   "cell_type": "markdown",
   "metadata": {
    "id": "v6PbIEV2bvDQ"
   },
   "source": [
    "## 1.\tWhat is FOR loop?\n",
    "You have a positive integer number N as an input. Please write a program in Python 3 that calculates the sum in range 1 and N."
   ]
  },
  {
   "cell_type": "code",
   "execution_count": 1,
   "metadata": {
    "ExecuteTime": {
     "end_time": "2023-03-27T08:15:14.607834Z",
     "start_time": "2023-03-27T08:15:14.604802Z"
    },
    "executionInfo": {
     "elapsed": 236,
     "status": "ok",
     "timestamp": 1678650344093,
     "user": {
      "displayName": "Illya Vitrenko",
      "userId": "17255613122339713682"
     },
     "user_tz": -120
    },
    "id": "jvWwFuSibyOX"
   },
   "outputs": [],
   "source": [
    "def int_sum(N):\n",
    "    sum = (N * (N+1)) // 2  \n",
    "    \n",
    "    return sum"
   ]
  },
  {
   "cell_type": "code",
   "execution_count": 2,
   "metadata": {
    "ExecuteTime": {
     "end_time": "2023-03-27T08:15:17.316762Z",
     "start_time": "2023-03-27T08:15:17.308727Z"
    },
    "colab": {
     "base_uri": "https://localhost:8080/"
    },
    "executionInfo": {
     "elapsed": 5,
     "status": "ok",
     "timestamp": 1678650345834,
     "user": {
      "displayName": "Illya Vitrenko",
      "userId": "17255613122339713682"
     },
     "user_tz": -120
    },
    "id": "n_CBtlwIhy-P",
    "outputId": "b22c8a12-2acb-4c27-fb34-62e7a0d3bbe9"
   },
   "outputs": [
    {
     "name": "stdout",
     "output_type": "stream",
     "text": [
      "CPU times: user 2 µs, sys: 1 µs, total: 3 µs\n",
      "Wall time: 3.81 µs\n"
     ]
    },
    {
     "data": {
      "text/plain": [
       "(1, 6, 55, 50000000000000000000000005000000000000000000000000)"
      ]
     },
     "execution_count": 2,
     "metadata": {},
     "output_type": "execute_result"
    }
   ],
   "source": [
    "%time\n",
    "int_sum(1), int_sum(3), int_sum(10), int_sum(10**25)"
   ]
  },
  {
   "cell_type": "markdown",
   "metadata": {
    "id": "5BXbXVv5cA4f"
   },
   "source": [
    "## 2.\tCounting islands\n",
    "You have a matrix MxN that represents a map. There are 2 possible states on the map: 1 - islands, 0 - ocean. Your task is to calculate the number of islands in the most effective way. Please write code in Python 3."
   ]
  },
  {
   "cell_type": "markdown",
   "metadata": {
    "id": "m46gioADcxKZ"
   },
   "source": [
    "*We can try recursion*"
   ]
  },
  {
   "cell_type": "code",
   "execution_count": 4,
   "metadata": {
    "executionInfo": {
     "elapsed": 229,
     "status": "ok",
     "timestamp": 1678650347992,
     "user": {
      "displayName": "Illya Vitrenko",
      "userId": "17255613122339713682"
     },
     "user_tz": -120
    },
    "id": "dn_h0AF1cGMX"
   },
   "outputs": [],
   "source": [
    "import numpy as np\n",
    "\n",
    "def counting_islands(m):\n",
    "  matrix = np.array(m)\n",
    "  if len(matrix.shape) != 2:\n",
    "    return 0\n",
    "\n",
    "  def find_island(r, c):\n",
    "    if rows > r >= 0 and cols > c >= 0 and matrix[r, c] == 1:\n",
    "      matrix[r, c] = 0\n",
    "      find_island(r+1, c)\n",
    "      find_island(r-1, c)\n",
    "      find_island(r, c+1)\n",
    "      find_island(r, c-1)\n",
    "\n",
    "  islands = 0\n",
    "  rows, cols = matrix.shape\n",
    "  for r in range(rows):\n",
    "    for c in range(cols):\n",
    "      if matrix[r, c] == 1:\n",
    "          islands += 1\n",
    "          find_island(r, c)\n",
    "\n",
    "  return islands"
   ]
  },
  {
   "cell_type": "code",
   "execution_count": 5,
   "metadata": {
    "colab": {
     "base_uri": "https://localhost:8080/"
    },
    "executionInfo": {
     "elapsed": 8,
     "status": "ok",
     "timestamp": 1678650350155,
     "user": {
      "displayName": "Illya Vitrenko",
      "userId": "17255613122339713682"
     },
     "user_tz": -120
    },
    "id": "lwhOuha4vHDs",
    "outputId": "9c42d883-f222-4433-8742-c688187f158f"
   },
   "outputs": [
    {
     "name": "stdout",
     "output_type": "stream",
     "text": [
      "CPU times: user 3 µs, sys: 1e+03 ns, total: 4 µs\n",
      "Wall time: 7.39 µs\n",
      "2\n",
      "3\n",
      "2\n",
      "1\n"
     ]
    }
   ],
   "source": [
    "%time\n",
    "a = [[0,1,0],\n",
    "     [0,0,0],\n",
    "     [0,1,1]]\n",
    "\n",
    "b = [[0,0,0,1],\n",
    "     [0,0,1,0],\n",
    "     [0,1,0,0]]\n",
    "\n",
    "c = [[0,0,0,1],\n",
    "     [0,0,1,1],\n",
    "     [0,1,0,1]]\n",
    "\n",
    "d = np.ones((5, 5))\n",
    "\n",
    "check_list = [a, b, c, d]\n",
    "\n",
    "for el in check_list:\n",
    "  print(counting_islands(el))"
   ]
  },
  {
   "cell_type": "markdown",
   "metadata": {
    "id": "rtLVqoe6eKE-"
   },
   "source": [
    "*But we can receive a RecursionError with some big island*"
   ]
  },
  {
   "cell_type": "code",
   "execution_count": 7,
   "metadata": {
    "colab": {
     "base_uri": "https://localhost:8080/"
    },
    "executionInfo": {
     "elapsed": 6,
     "status": "ok",
     "timestamp": 1678650393834,
     "user": {
      "displayName": "Illya Vitrenko",
      "userId": "17255613122339713682"
     },
     "user_tz": -120
    },
    "id": "0xt7frzzeUlk",
    "outputId": "3cd4355d-1b0f-491f-8088-1fa54ca5f7c4"
   },
   "outputs": [
    {
     "name": "stdout",
     "output_type": "stream",
     "text": [
      "RecursionError\n"
     ]
    }
   ],
   "source": [
    "e = np.ones((50, 50))\n",
    "try:\n",
    "  counting_islands(e)\n",
    "except RecursionError:\n",
    "  print(\"RecursionError\")"
   ]
  },
  {
   "cell_type": "markdown",
   "metadata": {
    "id": "VgEzvozWefPK"
   },
   "source": [
    "*So I made alternative algorithm, without recursion, that assign new number for each island.*"
   ]
  },
  {
   "cell_type": "code",
   "execution_count": 8,
   "metadata": {
    "executionInfo": {
     "elapsed": 200,
     "status": "ok",
     "timestamp": 1678650401224,
     "user": {
      "displayName": "Illya Vitrenko",
      "userId": "17255613122339713682"
     },
     "user_tz": -120
    },
    "id": "_MxnRj68QtMM"
   },
   "outputs": [],
   "source": [
    "def alt_counting_islands(m):\n",
    "  matrix = np.array(m)\n",
    "  if len(matrix.shape) != 2:\n",
    "    return 0\n",
    "\n",
    "  island = 1; # start from 1\n",
    "  rows, cols = matrix.shape\n",
    "  for r in range(rows):\n",
    "    for c in range(cols):    \n",
    "      if matrix[r, c] == 1:\n",
    "        left, top = 0, 0 # we will check only left and top cells\n",
    "        if r > 0:\n",
    "          left = matrix[r-1, c]\n",
    "        if c > 0:\n",
    "          top = matrix[r, c-1]\n",
    "        if left > 1 and top > 1:\n",
    "          if top < left:\n",
    "            matrix[r, c] = top\n",
    "            matrix[matrix == left] = top\n",
    "          elif left < top:\n",
    "            matrix[r, c] = left\n",
    "            matrix[matrix == top] = left\n",
    "          else:\n",
    "            matrix[r, c] = left\n",
    "        elif left > 1:\n",
    "          matrix[r, c] = left\n",
    "        elif top > 1:\n",
    "          matrix[r, c] = top\n",
    "        else:\n",
    "          island += 1\n",
    "          matrix[r, c] = island\n",
    "\n",
    "  return len(np.unique(matrix[matrix>1]))  "
   ]
  },
  {
   "cell_type": "code",
   "execution_count": 9,
   "metadata": {
    "colab": {
     "base_uri": "https://localhost:8080/"
    },
    "executionInfo": {
     "elapsed": 5,
     "status": "ok",
     "timestamp": 1678650403125,
     "user": {
      "displayName": "Illya Vitrenko",
      "userId": "17255613122339713682"
     },
     "user_tz": -120
    },
    "id": "0yEFfclscf3o",
    "outputId": "6629a3e7-a9bf-492a-9d6c-001e1496ea6c"
   },
   "outputs": [
    {
     "name": "stdout",
     "output_type": "stream",
     "text": [
      "CPU times: user 3 µs, sys: 0 ns, total: 3 µs\n",
      "Wall time: 7.15 µs\n",
      "2\n",
      "3\n",
      "2\n",
      "1\n",
      "1\n"
     ]
    }
   ],
   "source": [
    "%time\n",
    "check_list = [a, b, c, d, e]\n",
    "for el in check_list:\n",
    "  print(alt_counting_islands(el))"
   ]
  },
  {
   "cell_type": "markdown",
   "metadata": {
    "id": "W99Kxh0AfmkK"
   },
   "source": [
    "*And we're not lose in speed*"
   ]
  }
 ],
 "metadata": {
  "colab": {
   "authorship_tag": "ABX9TyOyIB+KpfGfW7mj/6L1nfzG",
   "provenance": []
  },
  "kernelspec": {
   "display_name": "Python 3 (ipykernel)",
   "language": "python",
   "name": "python3"
  },
  "language_info": {
   "codemirror_mode": {
    "name": "ipython",
    "version": 3
   },
   "file_extension": ".py",
   "mimetype": "text/x-python",
   "name": "python",
   "nbconvert_exporter": "python",
   "pygments_lexer": "ipython3",
   "version": "3.10.9"
  },
  "toc": {
   "base_numbering": 1,
   "nav_menu": {},
   "number_sections": true,
   "sideBar": true,
   "skip_h1_title": false,
   "title_cell": "Table of Contents",
   "title_sidebar": "Contents",
   "toc_cell": false,
   "toc_position": {},
   "toc_section_display": true,
   "toc_window_display": false
  }
 },
 "nbformat": 4,
 "nbformat_minor": 1
}
